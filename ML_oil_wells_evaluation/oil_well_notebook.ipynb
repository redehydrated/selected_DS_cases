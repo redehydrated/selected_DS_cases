{
 "cells": [
  {
   "cell_type": "markdown",
   "metadata": {},
   "source": [
    "Привет, меня зовут Артем Хуршудов. Сегодня я проверю твой проект.\n",
    "\n",
    "### <font color='orange'>Общее впечатление</font>\n",
    "* Большое спасибо за проделанную работу. Видно, что приложено много усилий.\n",
    "* Выводы и рассуждения получились содержательными, их было интересно читать.\n",
    "* Радует, что тебе удалось разобраться с техникой бутстрапа.\n",
    "* Отлично, что доверительный интервал и риск убытков посчитаны верно.\n",
    "* Я оставил несколько советов, надеюсь, что они будут учтены в будущих проектах.\n",
    "* Редко, кто сдает эту работу с первого раза, молодец!\n",
    "* Проект может быть зачтен, но я его отправлю назад, чтобы у тебя была возможность задать вопросы и внести правки, при желании. Однако, ты можешь просто вернуть проект в таком же виде и я его зачту."
   ]
  },
  {
   "cell_type": "markdown",
   "metadata": {},
   "source": [
    "# Выбор локации для скважины"
   ]
  },
  {
   "cell_type": "markdown",
   "metadata": {},
   "source": [
    "Допустим, вы работаете в добывающей компании «ГлавРосГосНефть». Нужно решить, где бурить новую скважину.\n",
    "\n",
    "Вам предоставлены пробы нефти в трёх регионах: в каждом 10 000 месторождений, где измерили качество нефти и объём её запасов. Постройте модель машинного обучения, которая поможет определить регион, где добыча принесёт наибольшую прибыль. Проанализируйте возможную прибыль и риски техникой *Bootstrap.*\n",
    "\n",
    "Шаги для выбора локации:\n",
    "\n",
    "- В избранном регионе ищут месторождения, для каждого определяют значения признаков;\n",
    "- Строят модель и оценивают объём запасов;\n",
    "- Выбирают месторождения с самым высокими оценками значений. Количество месторождений зависит от бюджета компании и стоимости разработки одной скважины;\n",
    "- Прибыль равна суммарной прибыли отобранных месторождений."
   ]
  },
  {
   "cell_type": "markdown",
   "metadata": {},
   "source": [
    "## Загрузка и подготовка данных"
   ]
  },
  {
   "cell_type": "code",
   "execution_count": 5,
   "metadata": {},
   "outputs": [],
   "source": [
    "import pandas as pd\n",
    "import matplotlib.pyplot as plt\n",
    "from sklearn.model_selection import train_test_split\n",
    "from sklearn.preprocessing import StandardScaler\n",
    "from sklearn.linear_model import LinearRegression\n",
    "from sklearn.metrics import mean_squared_error\n",
    "from sklearn.metrics import mean_absolute_error \n",
    "from numpy.random import RandomState\n",
    "from scipy import stats as st "
   ]
  },
  {
   "cell_type": "markdown",
   "metadata": {},
   "source": [
    "## Обучение и проверка модели"
   ]
  },
  {
   "cell_type": "code",
   "execution_count": 7,
   "metadata": {},
   "outputs": [
    {
     "data": {
      "text/html": [
       "<div>\n",
       "<style scoped>\n",
       "    .dataframe tbody tr th:only-of-type {\n",
       "        vertical-align: middle;\n",
       "    }\n",
       "\n",
       "    .dataframe tbody tr th {\n",
       "        vertical-align: top;\n",
       "    }\n",
       "\n",
       "    .dataframe thead th {\n",
       "        text-align: right;\n",
       "    }\n",
       "</style>\n",
       "<table border=\"1\" class=\"dataframe\">\n",
       "  <thead>\n",
       "    <tr style=\"text-align: right;\">\n",
       "      <th></th>\n",
       "      <th>f0</th>\n",
       "      <th>f1</th>\n",
       "      <th>f2</th>\n",
       "      <th>product</th>\n",
       "    </tr>\n",
       "  </thead>\n",
       "  <tbody>\n",
       "    <tr>\n",
       "      <th>count</th>\n",
       "      <td>100000.000000</td>\n",
       "      <td>100000.000000</td>\n",
       "      <td>100000.000000</td>\n",
       "      <td>100000.000000</td>\n",
       "    </tr>\n",
       "    <tr>\n",
       "      <th>mean</th>\n",
       "      <td>0.500419</td>\n",
       "      <td>0.250143</td>\n",
       "      <td>2.502647</td>\n",
       "      <td>92.500000</td>\n",
       "    </tr>\n",
       "    <tr>\n",
       "      <th>std</th>\n",
       "      <td>0.871832</td>\n",
       "      <td>0.504433</td>\n",
       "      <td>3.248248</td>\n",
       "      <td>44.288691</td>\n",
       "    </tr>\n",
       "    <tr>\n",
       "      <th>min</th>\n",
       "      <td>-1.408605</td>\n",
       "      <td>-0.848218</td>\n",
       "      <td>-12.088328</td>\n",
       "      <td>0.000000</td>\n",
       "    </tr>\n",
       "    <tr>\n",
       "      <th>25%</th>\n",
       "      <td>-0.072580</td>\n",
       "      <td>-0.200881</td>\n",
       "      <td>0.287748</td>\n",
       "      <td>56.497507</td>\n",
       "    </tr>\n",
       "    <tr>\n",
       "      <th>50%</th>\n",
       "      <td>0.502360</td>\n",
       "      <td>0.250252</td>\n",
       "      <td>2.515969</td>\n",
       "      <td>91.849972</td>\n",
       "    </tr>\n",
       "    <tr>\n",
       "      <th>75%</th>\n",
       "      <td>1.073581</td>\n",
       "      <td>0.700646</td>\n",
       "      <td>4.715088</td>\n",
       "      <td>128.564089</td>\n",
       "    </tr>\n",
       "    <tr>\n",
       "      <th>max</th>\n",
       "      <td>2.362331</td>\n",
       "      <td>1.343769</td>\n",
       "      <td>16.003790</td>\n",
       "      <td>185.364347</td>\n",
       "    </tr>\n",
       "  </tbody>\n",
       "</table>\n",
       "</div>"
      ],
      "text/plain": [
       "                  f0             f1             f2        product\n",
       "count  100000.000000  100000.000000  100000.000000  100000.000000\n",
       "mean        0.500419       0.250143       2.502647      92.500000\n",
       "std         0.871832       0.504433       3.248248      44.288691\n",
       "min        -1.408605      -0.848218     -12.088328       0.000000\n",
       "25%        -0.072580      -0.200881       0.287748      56.497507\n",
       "50%         0.502360       0.250252       2.515969      91.849972\n",
       "75%         1.073581       0.700646       4.715088     128.564089\n",
       "max         2.362331       1.343769      16.003790     185.364347"
      ]
     },
     "metadata": {},
     "output_type": "display_data"
    },
    {
     "data": {
      "text/html": [
       "<div>\n",
       "<style scoped>\n",
       "    .dataframe tbody tr th:only-of-type {\n",
       "        vertical-align: middle;\n",
       "    }\n",
       "\n",
       "    .dataframe tbody tr th {\n",
       "        vertical-align: top;\n",
       "    }\n",
       "\n",
       "    .dataframe thead th {\n",
       "        text-align: right;\n",
       "    }\n",
       "</style>\n",
       "<table border=\"1\" class=\"dataframe\">\n",
       "  <thead>\n",
       "    <tr style=\"text-align: right;\">\n",
       "      <th></th>\n",
       "      <th>f0</th>\n",
       "      <th>f1</th>\n",
       "      <th>f2</th>\n",
       "      <th>product</th>\n",
       "    </tr>\n",
       "  </thead>\n",
       "  <tbody>\n",
       "    <tr>\n",
       "      <th>count</th>\n",
       "      <td>100000.000000</td>\n",
       "      <td>100000.000000</td>\n",
       "      <td>100000.000000</td>\n",
       "      <td>100000.000000</td>\n",
       "    </tr>\n",
       "    <tr>\n",
       "      <th>mean</th>\n",
       "      <td>1.141296</td>\n",
       "      <td>-4.796579</td>\n",
       "      <td>2.494541</td>\n",
       "      <td>68.825000</td>\n",
       "    </tr>\n",
       "    <tr>\n",
       "      <th>std</th>\n",
       "      <td>8.965932</td>\n",
       "      <td>5.119872</td>\n",
       "      <td>1.703572</td>\n",
       "      <td>45.944423</td>\n",
       "    </tr>\n",
       "    <tr>\n",
       "      <th>min</th>\n",
       "      <td>-31.609576</td>\n",
       "      <td>-26.358598</td>\n",
       "      <td>-0.018144</td>\n",
       "      <td>0.000000</td>\n",
       "    </tr>\n",
       "    <tr>\n",
       "      <th>25%</th>\n",
       "      <td>-6.298551</td>\n",
       "      <td>-8.267985</td>\n",
       "      <td>1.000021</td>\n",
       "      <td>26.953261</td>\n",
       "    </tr>\n",
       "    <tr>\n",
       "      <th>50%</th>\n",
       "      <td>1.153055</td>\n",
       "      <td>-4.813172</td>\n",
       "      <td>2.011479</td>\n",
       "      <td>57.085625</td>\n",
       "    </tr>\n",
       "    <tr>\n",
       "      <th>75%</th>\n",
       "      <td>8.621015</td>\n",
       "      <td>-1.332816</td>\n",
       "      <td>3.999904</td>\n",
       "      <td>107.813044</td>\n",
       "    </tr>\n",
       "    <tr>\n",
       "      <th>max</th>\n",
       "      <td>29.421755</td>\n",
       "      <td>18.734063</td>\n",
       "      <td>5.019721</td>\n",
       "      <td>137.945408</td>\n",
       "    </tr>\n",
       "  </tbody>\n",
       "</table>\n",
       "</div>"
      ],
      "text/plain": [
       "                  f0             f1             f2        product\n",
       "count  100000.000000  100000.000000  100000.000000  100000.000000\n",
       "mean        1.141296      -4.796579       2.494541      68.825000\n",
       "std         8.965932       5.119872       1.703572      45.944423\n",
       "min       -31.609576     -26.358598      -0.018144       0.000000\n",
       "25%        -6.298551      -8.267985       1.000021      26.953261\n",
       "50%         1.153055      -4.813172       2.011479      57.085625\n",
       "75%         8.621015      -1.332816       3.999904     107.813044\n",
       "max        29.421755      18.734063       5.019721     137.945408"
      ]
     },
     "metadata": {},
     "output_type": "display_data"
    },
    {
     "data": {
      "text/html": [
       "<div>\n",
       "<style scoped>\n",
       "    .dataframe tbody tr th:only-of-type {\n",
       "        vertical-align: middle;\n",
       "    }\n",
       "\n",
       "    .dataframe tbody tr th {\n",
       "        vertical-align: top;\n",
       "    }\n",
       "\n",
       "    .dataframe thead th {\n",
       "        text-align: right;\n",
       "    }\n",
       "</style>\n",
       "<table border=\"1\" class=\"dataframe\">\n",
       "  <thead>\n",
       "    <tr style=\"text-align: right;\">\n",
       "      <th></th>\n",
       "      <th>f0</th>\n",
       "      <th>f1</th>\n",
       "      <th>f2</th>\n",
       "      <th>product</th>\n",
       "    </tr>\n",
       "  </thead>\n",
       "  <tbody>\n",
       "    <tr>\n",
       "      <th>count</th>\n",
       "      <td>100000.000000</td>\n",
       "      <td>100000.000000</td>\n",
       "      <td>100000.000000</td>\n",
       "      <td>100000.000000</td>\n",
       "    </tr>\n",
       "    <tr>\n",
       "      <th>mean</th>\n",
       "      <td>0.002023</td>\n",
       "      <td>-0.002081</td>\n",
       "      <td>2.495128</td>\n",
       "      <td>95.000000</td>\n",
       "    </tr>\n",
       "    <tr>\n",
       "      <th>std</th>\n",
       "      <td>1.732045</td>\n",
       "      <td>1.730417</td>\n",
       "      <td>3.473445</td>\n",
       "      <td>44.749921</td>\n",
       "    </tr>\n",
       "    <tr>\n",
       "      <th>min</th>\n",
       "      <td>-8.760004</td>\n",
       "      <td>-7.084020</td>\n",
       "      <td>-11.970335</td>\n",
       "      <td>0.000000</td>\n",
       "    </tr>\n",
       "    <tr>\n",
       "      <th>25%</th>\n",
       "      <td>-1.162288</td>\n",
       "      <td>-1.174820</td>\n",
       "      <td>0.130359</td>\n",
       "      <td>59.450441</td>\n",
       "    </tr>\n",
       "    <tr>\n",
       "      <th>50%</th>\n",
       "      <td>0.009424</td>\n",
       "      <td>-0.009482</td>\n",
       "      <td>2.484236</td>\n",
       "      <td>94.925613</td>\n",
       "    </tr>\n",
       "    <tr>\n",
       "      <th>75%</th>\n",
       "      <td>1.158535</td>\n",
       "      <td>1.163678</td>\n",
       "      <td>4.858794</td>\n",
       "      <td>130.595027</td>\n",
       "    </tr>\n",
       "    <tr>\n",
       "      <th>max</th>\n",
       "      <td>7.238262</td>\n",
       "      <td>7.844801</td>\n",
       "      <td>16.739402</td>\n",
       "      <td>190.029838</td>\n",
       "    </tr>\n",
       "  </tbody>\n",
       "</table>\n",
       "</div>"
      ],
      "text/plain": [
       "                  f0             f1             f2        product\n",
       "count  100000.000000  100000.000000  100000.000000  100000.000000\n",
       "mean        0.002023      -0.002081       2.495128      95.000000\n",
       "std         1.732045       1.730417       3.473445      44.749921\n",
       "min        -8.760004      -7.084020     -11.970335       0.000000\n",
       "25%        -1.162288      -1.174820       0.130359      59.450441\n",
       "50%         0.009424      -0.009482       2.484236      94.925613\n",
       "75%         1.158535       1.163678       4.858794     130.595027\n",
       "max         7.238262       7.844801      16.739402     190.029838"
      ]
     },
     "metadata": {},
     "output_type": "display_data"
    },
    {
     "data": {
      "image/png": "[encoded data removed]",
      "text/plain": [
       "<Figure size 1500x500 with 4 Axes>"
      ]
     },
     "metadata": {},
     "output_type": "display_data"
    }
   ],
   "source": [
    "df0 = pd.read_csv('datasets/geo_data_0.csv', index_col='id')\n",
    "df1 = pd.read_csv('datasets/geo_data_1.csv', index_col='id')\n",
    "df2 = pd.read_csv('datasets/geo_data_2.csv', index_col='id')\n",
    "\n",
    "display(df0.describe())\n",
    "display(df1.describe())\n",
    "display(df2.describe())\n",
    "\n",
    "plt.figure(figsize=(15, 5))\n",
    "_ = 0\n",
    "for column in df0.columns:\n",
    "    plt.subplot(1, 4, 1+_)\n",
    "    plt.title(f'boxplot for {column}')\n",
    "    plt.boxplot([frame[column] for frame in [df0, df1, df2]], labels=['df_0', 'df_1', 'df_2'])\n",
    "    _ += 1     "
   ]
  },
  {
   "cell_type": "markdown",
   "metadata": {},
   "source": [
    "Данные импортированны. Пропусков в данных не обнаружено. Три фрейма характеризуются различными распределениями признаков, регионы не однородны. Нулевой и второй регионы по разбросу признаков больше похожи друг на друга. \n",
    "\n",
    "Далее обчим модель линейной регрессии для каждого из регионов. В словаре results сохраним правильные ответы и предсказания по каждому из фреймов."
   ]
  },
  {
   "cell_type": "markdown",
   "metadata": {},
   "source": [
    "<div class=\"alert alert-block alert-success\">\n",
    "<b>Успех:</b> Данные загружены и осмотрены корректно.\n",
    "</div>"
   ]
  },
  {
   "cell_type": "code",
   "execution_count": 10,
   "metadata": {},
   "outputs": [],
   "source": [
    "def analyze_frames(frames):\n",
    "    \"\"\"\n",
    "    Анализирует данные из списка фреймов с использованием линейной регрессии.\n",
    "    \n",
    "    Args:\n",
    "    frames (list of tuples): список кортежей, содержащих DataFrame и его имя.\n",
    "    \n",
    "    Returns:\n",
    "    dict: словарь с результатами, включая валидационные данные и прогнозы.\n",
    "    \"\"\"\n",
    "    results = dict()  # Словарь для хранения результатов\n",
    "    frame_index = 0  # Индекс текущего фрейма\n",
    "\n",
    "    for frame, name in frames:\n",
    "        # Разделение данных на признаки и цель\n",
    "        features = frame.drop(['product'], axis=1)\n",
    "        target = frame['product']\n",
    "        features_train, features_valid, target_train, target_valid = train_test_split(\n",
    "            features, target, test_size=0.25)\n",
    "        \n",
    "        # Создание и обучение модели линейной регрессии\n",
    "        model = LinearRegression()\n",
    "        model.fit(features_train, target_train)\n",
    "        \n",
    "        # Выполнение прогнозирования на валидационной выборке\n",
    "        predicted_valid = pd.Series(model.predict(features_valid), index=features_valid.index)\n",
    "        \n",
    "        # Вычисление метрик\n",
    "        rmse = mean_squared_error(target_valid, predicted_valid)**0.5\n",
    "        \n",
    "        # Сохранение результатов\n",
    "        results[name] = (target_valid, predicted_valid)\n",
    "        \n",
    "        # Вывод информации о модели для текущего фрейма\n",
    "        print(f'For frame {frame_index} model characteristics:')\n",
    "        print('Mean is:', predicted_valid.mean())\n",
    "        print('RMSE is:', rmse)\n",
    "        print('MAE is:', mean_absolute_error(target_valid, predicted_valid))\n",
    "        print('Linear coefficients are:')\n",
    "        display(pd.DataFrame(model.coef_, index=['f0', 'f1', 'f2']).T)\n",
    "        print()\n",
    "        \n",
    "        frame_index += 1  # Увеличение индекса фрейма\n",
    "\n",
    "    return results"
   ]
  },
  {
   "cell_type": "code",
   "execution_count": 11,
   "metadata": {},
   "outputs": [
    {
     "name": "stdout",
     "output_type": "stream",
     "text": [
      "For frame 0 model characteristics:\n",
      "Mean is: 92.48047474371226\n",
      "RMSE is: 37.65433244862956\n",
      "MAE is: 30.986119938861854\n",
      "Linear coefficients are:\n"
     ]
    },
    {
     "data": {
      "text/html": [
       "<div>\n",
       "<style scoped>\n",
       "    .dataframe tbody tr th:only-of-type {\n",
       "        vertical-align: middle;\n",
       "    }\n",
       "\n",
       "    .dataframe tbody tr th {\n",
       "        vertical-align: top;\n",
       "    }\n",
       "\n",
       "    .dataframe thead th {\n",
       "        text-align: right;\n",
       "    }\n",
       "</style>\n",
       "<table border=\"1\" class=\"dataframe\">\n",
       "  <thead>\n",
       "    <tr style=\"text-align: right;\">\n",
       "      <th></th>\n",
       "      <th>f0</th>\n",
       "      <th>f1</th>\n",
       "      <th>f2</th>\n",
       "    </tr>\n",
       "  </thead>\n",
       "  <tbody>\n",
       "    <tr>\n",
       "      <th>0</th>\n",
       "      <td>3.72973</td>\n",
       "      <td>-14.072651</td>\n",
       "      <td>6.610363</td>\n",
       "    </tr>\n",
       "  </tbody>\n",
       "</table>\n",
       "</div>"
      ],
      "text/plain": [
       "        f0         f1        f2\n",
       "0  3.72973 -14.072651  6.610363"
      ]
     },
     "metadata": {},
     "output_type": "display_data"
    },
    {
     "name": "stdout",
     "output_type": "stream",
     "text": [
      "\n",
      "For frame 1 model characteristics:\n",
      "Mean is: 68.78810975555305\n",
      "RMSE is: 0.8892414539894633\n",
      "MAE is: 0.7156209831329576\n",
      "Linear coefficients are:\n"
     ]
    },
    {
     "data": {
      "text/html": [
       "<div>\n",
       "<style scoped>\n",
       "    .dataframe tbody tr th:only-of-type {\n",
       "        vertical-align: middle;\n",
       "    }\n",
       "\n",
       "    .dataframe tbody tr th {\n",
       "        vertical-align: top;\n",
       "    }\n",
       "\n",
       "    .dataframe thead th {\n",
       "        text-align: right;\n",
       "    }\n",
       "</style>\n",
       "<table border=\"1\" class=\"dataframe\">\n",
       "  <thead>\n",
       "    <tr style=\"text-align: right;\">\n",
       "      <th></th>\n",
       "      <th>f0</th>\n",
       "      <th>f1</th>\n",
       "      <th>f2</th>\n",
       "    </tr>\n",
       "  </thead>\n",
       "  <tbody>\n",
       "    <tr>\n",
       "      <th>0</th>\n",
       "      <td>-0.145134</td>\n",
       "      <td>-0.021199</td>\n",
       "      <td>26.952359</td>\n",
       "    </tr>\n",
       "  </tbody>\n",
       "</table>\n",
       "</div>"
      ],
      "text/plain": [
       "         f0        f1         f2\n",
       "0 -0.145134 -0.021199  26.952359"
      ]
     },
     "metadata": {},
     "output_type": "display_data"
    },
    {
     "name": "stdout",
     "output_type": "stream",
     "text": [
      "\n",
      "For frame 2 model characteristics:\n",
      "Mean is: 94.83345389332149\n",
      "RMSE is: 40.073911314265864\n",
      "MAE is: 32.78350404495146\n",
      "Linear coefficients are:\n"
     ]
    },
    {
     "data": {
      "text/html": [
       "<div>\n",
       "<style scoped>\n",
       "    .dataframe tbody tr th:only-of-type {\n",
       "        vertical-align: middle;\n",
       "    }\n",
       "\n",
       "    .dataframe tbody tr th {\n",
       "        vertical-align: top;\n",
       "    }\n",
       "\n",
       "    .dataframe thead th {\n",
       "        text-align: right;\n",
       "    }\n",
       "</style>\n",
       "<table border=\"1\" class=\"dataframe\">\n",
       "  <thead>\n",
       "    <tr style=\"text-align: right;\">\n",
       "      <th></th>\n",
       "      <th>f0</th>\n",
       "      <th>f1</th>\n",
       "      <th>f2</th>\n",
       "    </tr>\n",
       "  </thead>\n",
       "  <tbody>\n",
       "    <tr>\n",
       "      <th>0</th>\n",
       "      <td>-0.042108</td>\n",
       "      <td>0.052603</td>\n",
       "      <td>5.750947</td>\n",
       "    </tr>\n",
       "  </tbody>\n",
       "</table>\n",
       "</div>"
      ],
      "text/plain": [
       "         f0        f1        f2\n",
       "0 -0.042108  0.052603  5.750947"
      ]
     },
     "metadata": {},
     "output_type": "display_data"
    },
    {
     "name": "stdout",
     "output_type": "stream",
     "text": [
      "\n"
     ]
    }
   ],
   "source": [
    "# использования функции для тренировки моделей\n",
    "frame_list = [(df0, 'df0'), (df1, 'df1'), (df2, 'df2')]\n",
    "results = analyze_frames(frame_list)"
   ]
  },
  {
   "cell_type": "markdown",
   "metadata": {},
   "source": [
    "### Обсуждение результатов анализа моделей\r\n",
    "\r\n",
    "### Модель для фрейма 0\r\n",
    "- **Среднее значение прогноза**: 92.26\r\n",
    "- **Среднеквадратическая ошибка (RMSE)**: 37.67\r\n",
    "- **Средняя абсолютная ошибка (MAE)**: 31.02\r\n",
    "- **Коэффициенты модели**:\r\n",
    "  - f0: 3.83\r\n",
    "  - f1: -14.08\r\n",
    "  - f2: 6.60\r\n",
    "\r\n",
    "### Модель для фрейма 1\r\n",
    "- **Среднее значение прогноза**: 69.07\r\n",
    "- **Среднеквадратическая ошибка (RMSE)**: 0.89\r\n",
    "- **Средняя абсолютная ошибка (MAE)**: 0.72\r\n",
    "- **Коэффициенты модели**:\r\n",
    "  - f0: -0.14\r\n",
    "  - f1: -0.02\r\n",
    "  - f2: 26.95\r\n",
    "\r\n",
    "### Модель для фрейма 2\r\n",
    "- **Среднее значение прогноза**: 94.93\r\n",
    "- **Среднеквадратическая ошибка (RMSE)**: 40.19\r\n",
    "- **Средняя абсолютная ошибка (MAE)**: 33.04\r\n",
    "- **Коэффициенты модели**:\r\n",
    "  - f0: -0.07\r\n",
    "  #- f1: -0.03\r\n",
    "  - f2: 5.76\r\n",
    "\r\n",
    "## Выводы\r\n",
    "Модель для фрейма 1 показывает значительно лучшую точность с RMSE и MAE ниже, чем у других моделей, что указывает на лучшую адаптацию к данным этого фрейма. Модели для фреймов 0 и 2 имеют схожие показатели ошибок, но коэффициенты сильно различаются, что может указывать на различия в структуре \n",
    "Модель показывает хорошую предсказательную силу для данных первого региона (df1), RMSE модели минимально. Для двух других же регионов предсказательная сила низка. Если проанализировать коэффициенты линейной регресси, видим, что наибольший вклад у признака f2. Удивительное совпадение, но в фреймах df0 и df2 по признаку f2 видим большой разброс данных, который, видимо, и снижает предскзательную силу. данных или их масштабировании.\r\n"
   ]
  },
  {
   "cell_type": "markdown",
   "metadata": {},
   "source": [
    "## Подготовка к расчёту прибыли"
   ]
  },
  {
   "cell_type": "markdown",
   "metadata": {},
   "source": [
    "3.2. Рассчитайте достаточный объём сырья для безубыточной разработки новой скважины. Сравните полученный объём сырья со средним запасом в каждом регионе."
   ]
  },
  {
   "cell_type": "code",
   "execution_count": 15,
   "metadata": {},
   "outputs": [],
   "source": [
    "BUDGET = 10000000000 #RUB\n",
    "N = 200 #кол-во скважин\n",
    "AVG_INC_PER_BAR =  450000 #RUB"
   ]
  },
  {
   "cell_type": "code",
   "execution_count": 16,
   "metadata": {
    "scrolled": true
   },
   "outputs": [
    {
     "name": "stdout",
     "output_type": "stream",
     "text": [
      "Ожидаемый минимальный объем: 111.11\n",
      "Средниц запас во фреймах (по порядку)\n",
      "92.5\n",
      "68.83\n",
      "95.0\n"
     ]
    }
   ],
   "source": [
    "#рассчет минимального объема\n",
    "min_volume = BUDGET / (AVG_INC_PER_BAR * N)\n",
    "print('Ожидаемый минимальный объем:', round(min_volume, 2))\n",
    "print('Средниц запас во фреймах (по порядку)')\n",
    "\n",
    "for frame in [df0, df1, df2]:\n",
    "    print(round(frame['product'].mean(),2))"
   ]
  },
  {
   "cell_type": "markdown",
   "metadata": {},
   "source": [
    "Согласно расчёту минимальный оъем сырья для безубыточной добычи - 111 тыс. баррелей на скважину. Во всех трёх регионах средний запас ниже этого значения, причем наименьший запас в первом регионе (df1), по которому наша модель даёт наиболее точные предсказания:)"
   ]
  },
  {
   "cell_type": "markdown",
   "metadata": {},
   "source": [
    "## Расчёт прибыли и рисков "
   ]
  },
  {
   "cell_type": "markdown",
   "metadata": {},
   "source": [
    "Напишите функцию для расчёта прибыли по выбранным скважинам и предсказаниям модели:\n",
    "- 4.1. Выберите скважины с максимальными значениями предсказаний.\n",
    "- 4.2. Просуммируйте целевое значение объёма сырья, соответствующее этим предсказаниям.\n",
    "- 4.3. Рассчитайте прибыль для полученного объёма сырья."
   ]
  },
  {
   "cell_type": "code",
   "execution_count": 20,
   "metadata": {},
   "outputs": [],
   "source": [
    "def income_calc(target, predicted, num=N, avg_income_per_barrel=AVG_INC_PER_BAR, budget=BUDGET):\n",
    "    \"\"\"\n",
    "    Рассчитывает доход на основе прогнозируемых данных.\n",
    "\n",
    "    Args:\n",
    "    target (pd.Series): реальные значения целевой переменной.\n",
    "    predicted (pd.Series): прогнозируемые значения.\n",
    "    num (int): количество топовых результатов для расчета.\n",
    "    avg_income_per_barrel (float): средний доход на единицу продукции.\n",
    "    budget (float): затраты на производство.\n",
    "\n",
    "    Returns:\n",
    "    float: чистый доход после вычета затрат.\n",
    "\n",
    "    Функция сортирует прогнозируемые значения по убыванию и выбирает топ 'num' результатов.\n",
    "    Рассчитывает общий доход за эти результаты, умножая сумму реальных значений на средний доход за единицу,\n",
    "    затем вычитает общий бюджет на разработку, чтобы получить чистый доход.\n",
    "    \"\"\"\n",
    "    return target[predicted.sort_values(ascending=False)[:num].index].sum() * avg_income_per_barrel - budget\n"
   ]
  },
  {
   "cell_type": "markdown",
   "metadata": {},
   "source": [
    "<div class=\"alert alert-block alert-success\">\n",
    "<b>Успех:</b> Верно.\n",
    "</div>"
   ]
  },
  {
   "cell_type": "markdown",
   "metadata": {},
   "source": [
    "Посчитайте риски и прибыль для каждого региона:\n",
    "- 5.1. Примените технику Bootstrap с 1000 выборок, чтобы найти распределение прибыли. Размер выборки - 500, так как отбираются по условию 500 случ. объектов. Отбираются без возвращения (нельзя один объект в выборке выбрать дважды по логике задачи). \n",
    "- 5.2. Найдите среднюю прибыль, 95%-й доверительный интервал и риск убытков. Убыток — это отрицательная прибыль. ==> риск убытков это доля отрицательных прибылей. \n",
    "- 5.3. Напишите выводы: предложите регион для разработки скважин и обоснуйте выбор."
   ]
  },
  {
   "cell_type": "code",
   "execution_count": 43,
   "metadata": {},
   "outputs": [],
   "source": [
    "import matplotlib.pyplot as plt\n",
    "\n",
    "def simulate_income_distribution(results, iterations=1000, sample_size=500, state=None):\n",
    "    \"\"\"\n",
    "    Симулирует распределение доходов для каждого региона и визуализирует 95% доверительные интервалы.\n",
    "\n",
    "    Args:\n",
    "    results (dict): Словарь с данными о реальных и прогнозируемых значениях по регионам.\n",
    "    iterations (int): Количество итераций для симуляции.\n",
    "    sample_size (int): Размер подвыборки для оценки.\n",
    "    state (int): Состояние генератора случайных чисел для воспроизводимости.\n",
    "\n",
    "    Returns:\n",
    "    None: Функция выводит результаты в консоль и графики.\n",
    "    \"\"\"\n",
    "    region_index = 0  # Индекс текущего региона для отображения \n",
    "    state = RandomState(1994) \n",
    "\n",
    "    for frame in results:\n",
    "        incomes = []\n",
    "        for i in range(iterations):\n",
    "            # Создание подвыборки прогнозируемых и реальных данных\n",
    "            subsample_predicted = results[frame][1].sample(n=sample_size, replace=False, random_state=state)\n",
    "            subsample_target = results[frame][0][subsample_predicted.index]\n",
    "            # Расчет дохода для подвыборки\n",
    "            income = income_calc(subsample_target, subsample_predicted)\n",
    "            incomes.append(income)\n",
    "        \n",
    "        incomes = pd.Series(incomes)\n",
    "        mean = incomes.mean()\n",
    "        CI_95 = (incomes.quantile(q=0.025), incomes.quantile(q=0.975))\n",
    "        risk_level = (incomes < 0).mean() * 100  # Процент случаев с отрицательным доходом\n",
    "\n",
    "        # Вывод результатов для текущего региона\n",
    "        print(f'Results for region {region_index}:')\n",
    "        print('Mean income:', mean)\n",
    "        print('95% Confidence Interval:', CI_95)\n",
    "        print(f'Risk level: {risk_level}%')\n",
    "        print()\n",
    "\n",
    "        # Визуализация 95% доверительного интервала\n",
    "        plt.figure(figsize=(5, 5))\n",
    "        plt.hist(incomes, bins=50, color='skyblue', alpha=0.7)\n",
    "        plt.axvline(x=CI_95[0], color='red', linestyle='dashed', label='2.5% Quantile')\n",
    "        plt.axvline(x=CI_95[1], color='red', linestyle='dashed', label='97.5% Quantile')\n",
    "        plt.title(f'Income Distribution for Region {region_index}')\n",
    "        plt.xlabel('Income')\n",
    "        plt.ylabel('Frequency')\n",
    "        plt.legend()\n",
    "        plt.show()\n",
    "\n",
    "        region_index += 1"
   ]
  },
  {
   "cell_type": "code",
   "execution_count": 45,
   "metadata": {
    "scrolled": true
   },
   "outputs": [
    {
     "name": "stdout",
     "output_type": "stream",
     "text": [
      "Results for region 0:\n",
      "Mean income: 389727326.6240542\n",
      "95% Confidence Interval: (-135410217.55370373, 870122217.3017312)\n",
      "Risk level: 6.9%\n",
      "\n"
     ]
    },
    {
     "data": {
      "image/png": "[encoded data removed]",
      "text/plain": [
       "<Figure size 500x500 with 1 Axes>"
      ]
     },
     "metadata": {},
     "output_type": "display_data"
    },
    {
     "name": "stdout",
     "output_type": "stream",
     "text": [
      "Results for region 1:\n",
      "Mean income: 448915387.71204245\n",
      "95% Confidence Interval: (35215340.65736757, 863042250.0217923)\n",
      "Risk level: 1.5%\n",
      "\n"
     ]
    },
    {
     "data": {
      "image/png": "[encoded data removed]",
      "text/plain": [
       "<Figure size 500x500 with 1 Axes>"
      ]
     },
     "metadata": {},
     "output_type": "display_data"
    },
    {
     "name": "stdout",
     "output_type": "stream",
     "text": [
      "Results for region 2:\n",
      "Mean income: 354269074.2506935\n",
      "95% Confidence Interval: (-143627804.45354837, 920262607.5620757)\n",
      "Risk level: 9.1%\n",
      "\n"
     ]
    },
    {
     "data": {
      "image/png": "[encoded data removed]",
      "text/plain": [
       "<Figure size 500x500 with 1 Axes>"
      ]
     },
     "metadata": {},
     "output_type": "display_data"
    }
   ],
   "source": [
    "simulate_income_distribution(results)"
   ]
  },
  {
   "cell_type": "markdown",
   "metadata": {},
   "source": [
    "После оценки рисков оставляем лишь те регионы, в которых вероятность убытков меньше 2.5%. Среди них выбирем регион с наибольшей средней прибылью."
   ]
  },
  {
   "cell_type": "markdown",
   "metadata": {},
   "source": [
    "Критериям приемлемости соответсвует только регион 1, уровень риска здесь <2.5%, для остальных регионов уровень риска превышает 2.5%, следовательно для разработки рекомендованы быть не могут. \n",
    "\n",
    "Интерсно отметить, что в регионе 1 в среднем меньше запасов, однако из-за большого разброса в значениях признаков для региона 0 и региона 2 обученная модель предсказывает результаты хуже, в следствие чего мы видим более широкий 95% интервал выручки этих регионов. Модель чаще ошибается и выбирает объекты с меньшими запасами. \n",
    "Регион 1 же оказался с наиболее высокими результатами из-за того, что модель в этом случа предсказывает точно, и отобранные объекты с большими запасами действительно таковыми бывают чаще, чем для других регионов."
   ]
  },
  {
   "cell_type": "markdown",
   "metadata": {},
   "source": [
    "## Вывод\n",
    "\n",
    "- к разработке рекомендован регион 1\n",
    "- уровень риска для региона 1 - соответствует критерию приемлемости <2.5%\n",
    "- несмотря на наименьший средний запас среди регионов, регион 1 соответствует критериям приемлемости из-за наибольшей предсказательной силы модели среди данных, собранных для всех трёх регионов."
   ]
  },
  {
   "cell_type": "markdown",
   "metadata": {},
   "source": [
    "<div class=\"alert alert-block alert-success\">\n",
    "<b>Успех:</b> Приятно видеть вывод в конце проекта!\n",
    "</div>"
   ]
  },
  {
   "cell_type": "markdown",
   "metadata": {},
   "source": [
    "## Чек-лист готовности проекта"
   ]
  },
  {
   "cell_type": "markdown",
   "metadata": {},
   "source": [
    "Поставьте 'x' в выполненных пунктах. Далее нажмите Shift+Enter."
   ]
  },
  {
   "cell_type": "markdown",
   "metadata": {},
   "source": [
    "- [x]  Jupyter Notebook открыт\n",
    "- [x]  Весь код выполняется без ошибок\n",
    "- [x]  Ячейки с кодом расположены в порядке исполнения\n",
    "- [x]  Выполнен шаг 1: данные подготовлены\n",
    "- [x]  Выполнен шаг 2: модели обучены и проверены\n",
    "    - [x]  Данные корректно разбиты на обучающую и валидационную выборки\n",
    "    - [x]  Модели обучены, предсказания сделаны\n",
    "    - [x]  Предсказания и правильные ответы на валидационной выборке сохранены\n",
    "    - [x]  На экране напечатаны результаты\n",
    "    - [x]  Сделаны выводы\n",
    "- [x]  Выполнен шаг 3: проведена подготовка к расчёту прибыли\n",
    "    - [x]  Для всех ключевых значений созданы константы Python\n",
    "    - [x]  Посчитано минимальное среднее количество продукта в месторождениях региона, достаточное для разработки\n",
    "    - [x]  По предыдущему пункту сделаны выводы\n",
    "    - [x]  Написана функция расчёта прибыли\n",
    "- [X]  Выполнен шаг 4: посчитаны риски и прибыль\n",
    "    - [X]  Проведена процедура *Bootstrap*\n",
    "    - [x]  Все параметры бутстрепа соответствуют условию\n",
    "    - [X]  Найдены все нужные величины\n",
    "    - [x]  Предложен регион для разработки месторождения\n",
    "    - [x]  Выбор региона обоснован"
   ]
  }
 ],
 "metadata": {
  "ExecuteTimeLog": [
   {
    "duration": 427,
    "start_time": "2022-09-10T08:15:29.694Z"
   },
   {
    "duration": 1664,
    "start_time": "2022-09-10T08:16:10.643Z"
   },
   {
    "duration": 431,
    "start_time": "2022-09-10T08:16:39.051Z"
   },
   {
    "duration": 407,
    "start_time": "2022-09-10T08:17:32.123Z"
   },
   {
    "duration": 519,
    "start_time": "2022-09-10T08:18:18.334Z"
   },
   {
    "duration": 419,
    "start_time": "2022-09-10T08:22:52.231Z"
   },
   {
    "duration": 708,
    "start_time": "2022-09-10T08:25:53.407Z"
   },
   {
    "duration": 699,
    "start_time": "2022-09-10T08:26:01.811Z"
   },
   {
    "duration": 5,
    "start_time": "2022-09-10T08:26:30.751Z"
   },
   {
    "duration": 13,
    "start_time": "2022-09-10T08:26:55.346Z"
   },
   {
    "duration": 635,
    "start_time": "2022-09-10T08:27:12.097Z"
   },
   {
    "duration": 15,
    "start_time": "2022-09-10T08:27:28.612Z"
   },
   {
    "duration": 835,
    "start_time": "2022-09-10T08:27:42.124Z"
   },
   {
    "duration": 733,
    "start_time": "2022-09-10T08:28:12.374Z"
   },
   {
    "duration": 680,
    "start_time": "2022-09-10T08:31:34.660Z"
   },
   {
    "duration": 923,
    "start_time": "2022-09-10T08:32:00.361Z"
   },
   {
    "duration": 653,
    "start_time": "2022-09-10T08:33:54.419Z"
   },
   {
    "duration": 847,
    "start_time": "2022-09-10T08:34:10.528Z"
   },
   {
    "duration": 553,
    "start_time": "2022-09-10T08:34:23.372Z"
   },
   {
    "duration": 921,
    "start_time": "2022-09-10T08:34:41.976Z"
   },
   {
    "duration": 1099,
    "start_time": "2022-09-10T08:35:00.515Z"
   },
   {
    "duration": 628,
    "start_time": "2022-09-10T08:35:27.429Z"
   },
   {
    "duration": 1017,
    "start_time": "2022-09-10T08:36:13.557Z"
   },
   {
    "duration": 994,
    "start_time": "2022-09-10T08:38:02.809Z"
   },
   {
    "duration": 1050,
    "start_time": "2022-09-10T08:38:50.269Z"
   },
   {
    "duration": 953,
    "start_time": "2022-09-10T08:39:34.246Z"
   },
   {
    "duration": 965,
    "start_time": "2022-09-10T08:40:24.800Z"
   },
   {
    "duration": 987,
    "start_time": "2022-09-10T08:40:34.012Z"
   },
   {
    "duration": 1135,
    "start_time": "2022-09-10T08:40:54.961Z"
   },
   {
    "duration": 34,
    "start_time": "2022-09-10T09:04:46.714Z"
   },
   {
    "duration": 37,
    "start_time": "2022-09-10T09:04:54.436Z"
   },
   {
    "duration": 101,
    "start_time": "2022-09-10T09:05:00.546Z"
   },
   {
    "duration": 36,
    "start_time": "2022-09-10T09:10:56.385Z"
   },
   {
    "duration": 32,
    "start_time": "2022-09-10T09:11:01.175Z"
   },
   {
    "duration": 60,
    "start_time": "2022-09-10T09:11:06.096Z"
   },
   {
    "duration": 36,
    "start_time": "2022-09-10T09:11:19.726Z"
   },
   {
    "duration": 736,
    "start_time": "2022-09-10T09:13:22.494Z"
   },
   {
    "duration": 119,
    "start_time": "2022-09-10T09:14:36.830Z"
   },
   {
    "duration": 3,
    "start_time": "2022-09-10T09:15:36.443Z"
   },
   {
    "duration": 194,
    "start_time": "2022-09-10T09:17:30.989Z"
   },
   {
    "duration": 128,
    "start_time": "2022-09-10T09:18:17.965Z"
   },
   {
    "duration": 5,
    "start_time": "2022-09-10T09:18:26.491Z"
   },
   {
    "duration": 122,
    "start_time": "2022-09-10T09:19:11.043Z"
   },
   {
    "duration": 135,
    "start_time": "2022-09-10T09:19:18.010Z"
   },
   {
    "duration": 14,
    "start_time": "2022-09-10T09:19:20.984Z"
   },
   {
    "duration": 125,
    "start_time": "2022-09-10T09:19:45.124Z"
   },
   {
    "duration": 12,
    "start_time": "2022-09-10T09:19:50.410Z"
   },
   {
    "duration": 93,
    "start_time": "2022-09-10T09:26:45.602Z"
   },
   {
    "duration": 470,
    "start_time": "2022-09-10T09:27:34.890Z"
   },
   {
    "duration": 79,
    "start_time": "2022-09-10T09:28:58.305Z"
   },
   {
    "duration": 228,
    "start_time": "2022-09-10T09:29:10.447Z"
   },
   {
    "duration": 14,
    "start_time": "2022-09-10T09:29:33.915Z"
   },
   {
    "duration": 13,
    "start_time": "2022-09-10T09:30:19.519Z"
   },
   {
    "duration": 251,
    "start_time": "2022-09-10T09:31:01.644Z"
   },
   {
    "duration": 237,
    "start_time": "2022-09-10T09:31:20.834Z"
   },
   {
    "duration": 11,
    "start_time": "2022-09-10T09:31:23.403Z"
   },
   {
    "duration": 297,
    "start_time": "2022-09-10T09:31:52.104Z"
   },
   {
    "duration": 15,
    "start_time": "2022-09-10T09:31:55.070Z"
   },
   {
    "duration": 392,
    "start_time": "2022-09-10T09:32:20.778Z"
   },
   {
    "duration": 19,
    "start_time": "2022-09-10T09:32:22.151Z"
   },
   {
    "duration": 285,
    "start_time": "2022-09-10T09:33:12.953Z"
   },
   {
    "duration": 264,
    "start_time": "2022-09-10T09:33:18.688Z"
   },
   {
    "duration": 13,
    "start_time": "2022-09-10T09:33:19.753Z"
   },
   {
    "duration": 12,
    "start_time": "2022-09-10T09:33:30.713Z"
   },
   {
    "duration": 30,
    "start_time": "2022-09-10T09:34:44.753Z"
   },
   {
    "duration": 3,
    "start_time": "2022-09-10T09:34:47.978Z"
   },
   {
    "duration": 11,
    "start_time": "2022-09-10T09:35:18.427Z"
   },
   {
    "duration": 11,
    "start_time": "2022-09-10T09:35:27.008Z"
   },
   {
    "duration": 3,
    "start_time": "2022-09-10T09:36:39.911Z"
   },
   {
    "duration": 23,
    "start_time": "2022-09-10T09:37:03.268Z"
   },
   {
    "duration": 223,
    "start_time": "2022-09-10T09:37:34.972Z"
   },
   {
    "duration": 95,
    "start_time": "2022-09-10T09:57:45.608Z"
   },
   {
    "duration": 29,
    "start_time": "2022-09-10T09:57:48.523Z"
   },
   {
    "duration": 12,
    "start_time": "2022-09-10T09:58:39.047Z"
   },
   {
    "duration": 231,
    "start_time": "2022-09-10T09:59:14.117Z"
   },
   {
    "duration": 13,
    "start_time": "2022-09-10T09:59:15.765Z"
   },
   {
    "duration": 167,
    "start_time": "2022-09-10T09:59:18.634Z"
   },
   {
    "duration": 11,
    "start_time": "2022-09-10T12:37:28.165Z"
   },
   {
    "duration": 16,
    "start_time": "2022-09-10T12:43:22.601Z"
   },
   {
    "duration": 40,
    "start_time": "2022-09-10T12:43:46.224Z"
   },
   {
    "duration": 509,
    "start_time": "2022-09-10T12:44:09.184Z"
   },
   {
    "duration": 531,
    "start_time": "2022-09-10T12:47:44.763Z"
   },
   {
    "duration": 3,
    "start_time": "2022-09-10T12:55:53.164Z"
   },
   {
    "duration": 513,
    "start_time": "2022-09-10T12:58:00.282Z"
   },
   {
    "duration": 493,
    "start_time": "2022-09-10T13:02:15.904Z"
   },
   {
    "duration": 489,
    "start_time": "2022-09-10T13:03:04.607Z"
   },
   {
    "duration": 475,
    "start_time": "2022-09-10T13:03:19.818Z"
   },
   {
    "duration": 510,
    "start_time": "2022-09-10T13:07:39.183Z"
   },
   {
    "duration": 510,
    "start_time": "2022-09-10T13:07:45.285Z"
   },
   {
    "duration": 19,
    "start_time": "2022-09-10T13:07:51.654Z"
   },
   {
    "duration": 546,
    "start_time": "2022-09-10T13:07:54.846Z"
   },
   {
    "duration": 623,
    "start_time": "2022-09-10T13:08:08.068Z"
   },
   {
    "duration": 561,
    "start_time": "2022-09-10T13:08:19.430Z"
   },
   {
    "duration": 531,
    "start_time": "2022-09-10T13:08:27.960Z"
   },
   {
    "duration": 653,
    "start_time": "2022-09-10T13:08:38.239Z"
   },
   {
    "duration": 484,
    "start_time": "2022-09-10T13:08:45.409Z"
   },
   {
    "duration": 526,
    "start_time": "2022-09-10T13:09:42.509Z"
   },
   {
    "duration": 567,
    "start_time": "2022-09-10T13:10:07.726Z"
   },
   {
    "duration": 170,
    "start_time": "2022-09-10T13:10:17.935Z"
   },
   {
    "duration": 468,
    "start_time": "2022-09-10T13:10:25.365Z"
   },
   {
    "duration": 492,
    "start_time": "2022-09-10T13:10:38.700Z"
   },
   {
    "duration": 485,
    "start_time": "2022-09-10T13:12:28.721Z"
   },
   {
    "duration": 497,
    "start_time": "2022-09-10T13:12:49.297Z"
   },
   {
    "duration": 13,
    "start_time": "2022-09-11T09:44:13.938Z"
   },
   {
    "duration": 106,
    "start_time": "2022-09-11T09:45:26.391Z"
   },
   {
    "duration": 4,
    "start_time": "2022-09-11T09:45:32.942Z"
   },
   {
    "duration": 506,
    "start_time": "2022-09-11T09:45:37.992Z"
   },
   {
    "duration": 472,
    "start_time": "2022-09-11T09:47:55.921Z"
   },
   {
    "duration": 538,
    "start_time": "2022-09-11T09:48:26.455Z"
   },
   {
    "duration": 95,
    "start_time": "2022-09-11T09:48:34.957Z"
   },
   {
    "duration": 504,
    "start_time": "2022-09-11T09:48:51.990Z"
   },
   {
    "duration": 580,
    "start_time": "2022-09-11T09:49:47.313Z"
   },
   {
    "duration": 544,
    "start_time": "2022-09-11T09:49:59.054Z"
   },
   {
    "duration": 13,
    "start_time": "2022-09-11T09:58:54.920Z"
   },
   {
    "duration": 10,
    "start_time": "2022-09-11T09:59:31.206Z"
   },
   {
    "duration": 12,
    "start_time": "2022-09-11T10:01:09.523Z"
   },
   {
    "duration": 11,
    "start_time": "2022-09-11T10:01:20.686Z"
   },
   {
    "duration": 554,
    "start_time": "2022-09-11T10:02:09.043Z"
   },
   {
    "duration": 9,
    "start_time": "2022-09-11T10:02:26.627Z"
   },
   {
    "duration": 7,
    "start_time": "2022-09-11T10:02:34.683Z"
   },
   {
    "duration": 5,
    "start_time": "2022-09-11T10:02:39.613Z"
   },
   {
    "duration": 87,
    "start_time": "2022-09-11T10:03:18.474Z"
   },
   {
    "duration": 5,
    "start_time": "2022-09-11T10:03:28.005Z"
   },
   {
    "duration": 557,
    "start_time": "2022-09-11T10:03:35.437Z"
   },
   {
    "duration": 5,
    "start_time": "2022-09-11T10:03:38.940Z"
   },
   {
    "duration": 7,
    "start_time": "2022-09-11T10:03:46.862Z"
   },
   {
    "duration": 245,
    "start_time": "2022-09-11T10:36:03.848Z"
   },
   {
    "duration": 233,
    "start_time": "2022-09-11T10:36:11.973Z"
   },
   {
    "duration": 496,
    "start_time": "2022-09-11T10:36:28.905Z"
   },
   {
    "duration": 612,
    "start_time": "2022-09-11T10:36:56.481Z"
   },
   {
    "duration": 4,
    "start_time": "2022-09-11T10:51:26.502Z"
   },
   {
    "duration": 3,
    "start_time": "2022-09-11T10:52:53.006Z"
   },
   {
    "duration": 7,
    "start_time": "2022-09-11T10:54:31.104Z"
   },
   {
    "duration": 3,
    "start_time": "2022-09-11T11:04:09.784Z"
   },
   {
    "duration": 14,
    "start_time": "2022-09-11T11:05:39.360Z"
   },
   {
    "duration": 9,
    "start_time": "2022-09-11T11:06:59.872Z"
   },
   {
    "duration": 6,
    "start_time": "2022-09-11T11:07:03.851Z"
   },
   {
    "duration": 13,
    "start_time": "2022-09-11T11:07:14.765Z"
   },
   {
    "duration": 3,
    "start_time": "2022-09-11T11:07:25.061Z"
   },
   {
    "duration": 12,
    "start_time": "2022-09-11T11:07:27.707Z"
   },
   {
    "duration": 3,
    "start_time": "2022-09-11T11:08:02.987Z"
   },
   {
    "duration": 12,
    "start_time": "2022-09-11T11:08:03.519Z"
   },
   {
    "duration": 4,
    "start_time": "2022-09-11T11:08:25.024Z"
   },
   {
    "duration": 18,
    "start_time": "2022-09-11T11:08:25.959Z"
   },
   {
    "duration": 23,
    "start_time": "2022-09-11T11:10:15.443Z"
   },
   {
    "duration": 10,
    "start_time": "2022-09-11T11:10:23.772Z"
   },
   {
    "duration": 97,
    "start_time": "2022-09-11T11:10:39.141Z"
   },
   {
    "duration": 9,
    "start_time": "2022-09-11T11:10:53.648Z"
   },
   {
    "duration": 4,
    "start_time": "2022-09-11T11:10:55.914Z"
   },
   {
    "duration": 26,
    "start_time": "2022-09-11T11:10:59.974Z"
   },
   {
    "duration": 17,
    "start_time": "2022-09-11T11:11:25.180Z"
   },
   {
    "duration": 18,
    "start_time": "2022-09-11T11:11:37.254Z"
   },
   {
    "duration": 4,
    "start_time": "2022-09-11T11:17:17.387Z"
   },
   {
    "duration": 12,
    "start_time": "2022-09-11T11:19:44.078Z"
   },
   {
    "duration": 35588,
    "start_time": "2022-09-11T11:20:15.366Z"
   },
   {
    "duration": 0,
    "start_time": "2022-09-11T11:20:50.956Z"
   },
   {
    "duration": 25600,
    "start_time": "2022-09-11T11:20:56.573Z"
   },
   {
    "duration": 3,
    "start_time": "2022-09-11T11:21:24.714Z"
   },
   {
    "duration": 617872,
    "start_time": "2022-09-11T11:21:28.705Z"
   },
   {
    "duration": 16163,
    "start_time": "2022-09-11T11:32:06.943Z"
   },
   {
    "duration": 14,
    "start_time": "2022-09-11T11:32:36.161Z"
   },
   {
    "duration": 746,
    "start_time": "2022-09-11T11:33:53.221Z"
   },
   {
    "duration": 8253,
    "start_time": "2022-09-11T11:34:05.384Z"
   },
   {
    "duration": 8936,
    "start_time": "2022-09-11T11:34:27.099Z"
   },
   {
    "duration": 4,
    "start_time": "2022-09-11T16:10:33.553Z"
   },
   {
    "duration": 135,
    "start_time": "2022-09-11T16:13:48.651Z"
   },
   {
    "duration": 1987,
    "start_time": "2022-09-11T16:13:54.680Z"
   },
   {
    "duration": 2121,
    "start_time": "2022-09-11T16:14:09.781Z"
   },
   {
    "duration": 2071,
    "start_time": "2022-09-11T16:14:35.421Z"
   },
   {
    "duration": 42,
    "start_time": "2022-09-11T16:15:17.818Z"
   },
   {
    "duration": 5,
    "start_time": "2022-09-11T16:16:42.245Z"
   },
   {
    "duration": 108,
    "start_time": "2022-09-11T16:17:25.411Z"
   },
   {
    "duration": 1991,
    "start_time": "2022-09-11T16:17:35.461Z"
   },
   {
    "duration": 1946,
    "start_time": "2022-09-11T16:19:52.972Z"
   },
   {
    "duration": 7874,
    "start_time": "2022-09-11T16:20:10.536Z"
   },
   {
    "duration": 8287,
    "start_time": "2022-09-11T16:20:34.681Z"
   },
   {
    "duration": 8339,
    "start_time": "2022-09-11T16:21:59.029Z"
   },
   {
    "duration": 8334,
    "start_time": "2022-09-11T16:23:14.185Z"
   },
   {
    "duration": 8047,
    "start_time": "2022-09-11T16:25:51.037Z"
   },
   {
    "duration": 618,
    "start_time": "2022-09-11T16:27:19.889Z"
   },
   {
    "duration": 361,
    "start_time": "2022-09-11T16:27:26.051Z"
   },
   {
    "duration": 7777,
    "start_time": "2022-09-11T16:27:32.974Z"
   },
   {
    "duration": 5,
    "start_time": "2022-09-11T16:27:42.440Z"
   },
   {
    "duration": 7969,
    "start_time": "2022-09-11T16:28:03.396Z"
   },
   {
    "duration": 8594,
    "start_time": "2022-09-11T16:29:53.889Z"
   },
   {
    "duration": 1403,
    "start_time": "2022-09-11T16:46:24.268Z"
   },
   {
    "duration": 1011,
    "start_time": "2022-09-11T16:46:25.673Z"
   },
   {
    "duration": 279,
    "start_time": "2022-09-11T16:46:26.686Z"
   },
   {
    "duration": 633,
    "start_time": "2022-09-11T16:46:26.967Z"
   },
   {
    "duration": 7,
    "start_time": "2022-09-11T16:46:27.602Z"
   },
   {
    "duration": 23,
    "start_time": "2022-09-11T16:46:27.610Z"
   },
   {
    "duration": 6053,
    "start_time": "2022-09-11T16:46:27.635Z"
   },
   {
    "duration": 1528,
    "start_time": "2022-09-13T14:35:55.208Z"
   },
   {
    "duration": 1503,
    "start_time": "2022-09-13T14:35:56.739Z"
   },
   {
    "duration": 335,
    "start_time": "2022-09-13T14:35:58.243Z"
   },
   {
    "duration": 0,
    "start_time": "2022-09-13T14:35:58.580Z"
   },
   {
    "duration": 0,
    "start_time": "2022-09-13T14:35:58.582Z"
   },
   {
    "duration": 0,
    "start_time": "2022-09-13T14:35:58.584Z"
   },
   {
    "duration": 3,
    "start_time": "2022-09-13T14:36:46.691Z"
   },
   {
    "duration": 950,
    "start_time": "2022-09-13T14:36:46.698Z"
   },
   {
    "duration": 687,
    "start_time": "2022-09-13T14:36:47.650Z"
   },
   {
    "duration": 5,
    "start_time": "2022-09-13T14:36:48.339Z"
   },
   {
    "duration": 9,
    "start_time": "2022-09-13T14:36:48.345Z"
   },
   {
    "duration": 5191,
    "start_time": "2022-09-13T14:36:48.356Z"
   },
   {
    "duration": 5324,
    "start_time": "2022-09-13T14:38:35.136Z"
   },
   {
    "duration": 560,
    "start_time": "2022-09-13T14:39:23.078Z"
   },
   {
    "duration": 5215,
    "start_time": "2022-09-13T14:40:41.455Z"
   },
   {
    "duration": 5182,
    "start_time": "2022-09-13T14:41:18.789Z"
   },
   {
    "duration": 4,
    "start_time": "2022-09-13T14:44:31.103Z"
   },
   {
    "duration": 5275,
    "start_time": "2022-09-13T14:44:33.862Z"
   },
   {
    "duration": 50,
    "start_time": "2022-09-14T08:18:50.149Z"
   },
   {
    "duration": 1487,
    "start_time": "2022-09-14T08:18:57.226Z"
   },
   {
    "duration": 1241,
    "start_time": "2022-09-14T08:18:58.715Z"
   },
   {
    "duration": 552,
    "start_time": "2022-09-14T08:18:59.957Z"
   },
   {
    "duration": 7,
    "start_time": "2022-09-14T08:19:00.600Z"
   },
   {
    "duration": 18,
    "start_time": "2022-09-14T08:19:00.609Z"
   },
   {
    "duration": 24,
    "start_time": "2022-09-14T08:19:00.629Z"
   },
   {
    "duration": 7424,
    "start_time": "2022-09-14T08:19:00.654Z"
   }
  ],
  "kernelspec": {
   "display_name": "Python 3 (ipykernel)",
   "language": "python",
   "name": "python3"
  },
  "language_info": {
   "codemirror_mode": {
    "name": "ipython",
    "version": 3
   },
   "file_extension": ".py",
   "mimetype": "text/x-python",
   "name": "python",
   "nbconvert_exporter": "python",
   "pygments_lexer": "ipython3",
   "version": "3.12.4"
  },
  "toc": {
   "base_numbering": 1,
   "nav_menu": {},
   "number_sections": true,
   "sideBar": true,
   "skip_h1_title": true,
   "title_cell": "Table of Contents",
   "title_sidebar": "Contents",
   "toc_cell": false,
   "toc_position": {},
   "toc_section_display": true,
   "toc_window_display": false
  }
 },
 "nbformat": 4,
 "nbformat_minor": 4
}
